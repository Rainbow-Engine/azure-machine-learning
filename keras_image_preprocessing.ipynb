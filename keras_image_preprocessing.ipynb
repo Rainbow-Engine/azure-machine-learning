{
  "cells": [
    {
      "cell_type": "markdown",
      "metadata": {
        "nteract": {
          "transient": {
            "deleting": false
          }
        }
      },
      "source": [
        "# ワークスペースへの接続"
      ]
    },
    {
      "cell_type": "code",
      "execution_count": 4,
      "metadata": {
        "gather": {
          "logged": 1673244972813
        },
        "jupyter": {
          "outputs_hidden": false,
          "source_hidden": false
        },
        "nteract": {
          "transient": {
            "deleting": false
          }
        }
      },
      "outputs": [],
      "source": [
        "# Handle to the workspace\n",
        "from azure.ai.ml import MLClient\n",
        "\n",
        "# Authentication package\n",
        "from azure.identity import DefaultAzureCredential\n",
        "\n",
        "credential = DefaultAzureCredential()"
      ]
    },
    {
      "cell_type": "code",
      "execution_count": 5,
      "metadata": {
        "gather": {
          "logged": 1673244975098
        },
        "jupyter": {
          "outputs_hidden": false,
          "source_hidden": false
        },
        "nteract": {
          "transient": {
            "deleting": false
          }
        }
      },
      "outputs": [],
      "source": [
        "# Get a handle to the workspace\n",
        "ml_client = MLClient(\n",
        "    credential=credential,\n",
        "    subscription_id=\"XXXXXXXXXXXXXXXXXXXXXXXXX\",\n",
        "    resource_group_name=\"XXXXXXXXXXXXXXXXX\",\n",
        "    workspace_name=\"XXXXXXXXXXXXXXXXXX\",\n",
        ")"
      ]
    },
    {
      "cell_type": "markdown",
      "metadata": {
        "nteract": {
          "transient": {
            "deleting": false
          }
        }
      },
      "source": [
        "# テストデータ準備（パターン２）"
      ]
    },
    {
      "cell_type": "markdown",
      "metadata": {
        "nteract": {
          "transient": {
            "deleting": false
          }
        }
      },
      "source": [
        "#### File SharesへのDataStore経由アクセス準備 : DataStoreの設定"
      ]
    },
    {
      "cell_type": "code",
      "execution_count": null,
      "metadata": {
        "gather": {
          "logged": 1673229548998
        },
        "jupyter": {
          "outputs_hidden": false,
          "source_hidden": false
        },
        "nteract": {
          "transient": {
            "deleting": false
          }
        }
      },
      "outputs": [],
      "source": [
        "from azure.ai.ml.entities import AzureFileDatastore\n",
        "from azure.ai.ml.entities._credentials import (\n",
        "     AccountKeyConfiguration,\n",
        "     CertificateConfiguration,\n",
        "     NoneCredentialConfiguration,\n",
        "     SasTokenConfiguration,\n",
        "     ServicePrincipalConfiguration,\n",
        " )\n",
        "from azure.ai.ml import MLClient\n",
        "\n",
        "store = AzureFileDatastore(\n",
        "    name=\"file_sas_example\",\n",
        "    description=\"Datastore pointing to a file share using sas token.\",\n",
        "    account_name=\"xxxxxxxxxxxxxxxxxxxxx\",\n",
        "    file_share_name=\"xxxxxxxxxxxxxxxxxxx\",\n",
        "    credentials=SasTokenConfiguration(\n",
        "        sas_token=\"xxxxxxxxxxxxxxxxxxxxxxxxxxxxxx\"\n",
        "    ),\n",
        ")\n",
        "ml_client.create_or_update(store)"
      ]
    },
    {
      "cell_type": "markdown",
      "metadata": {
        "nteract": {
          "transient": {
            "deleting": false
          }
        }
      },
      "source": [
        "#### データアクセスと加工"
      ]
    },
    {
      "cell_type": "code",
      "execution_count": null,
      "metadata": {
        "gather": {
          "logged": 1673231044597
        },
        "jupyter": {
          "outputs_hidden": false,
          "source_hidden": false
        },
        "nteract": {
          "transient": {
            "deleting": false
          }
        }
      },
      "outputs": [],
      "source": [
        "from azure.ai.ml import command\n",
        "from azure.ai.ml import UserIdentityConfiguration\n",
        "from azure.ai.ml import Input\n",
        "\n",
        "gpu_compute_target = \"gpu-cluster-rainbow\"\n",
        "custom_env_name = \"keras-env\"\n",
        "web_path = \"azureml://datastores/file_sas_example/paths/<your path>\"\n",
        "\n",
        "job_env = ml_client.environments.get(name=custom_env_name, version=str(len(list(ml_client.environments.list(name=custom_env_name)))))\n",
        "job = command(\n",
        "    inputs=dict(\n",
        "        data_folder=Input(type=\"uri_folder\", path=web_path),\n",
        "    ), \n",
        "    compute=gpu_compute_target,\n",
        "    environment=f\"{job_env.name}:{job_env.version}\",\n",
        "    code=\"./src/\",\n",
        "    command=\"python keras_image_preprocessing.py --data-folder ${{inputs.data_folder}}\",\n",
        "    experiment_name=\"xxxxx\",\n",
        "    display_name=\"xxxxx\",\n",
        ")\n",
        "\n",
        "ml_client.jobs.create_or_update(job)"
      ]
    }
  ],
  "metadata": {
    "kernel_info": {
      "name": "python310-sdkv2"
    },
    "kernelspec": {
      "display_name": "Python 3.10 - SDK V2",
      "language": "python",
      "name": "python310-sdkv2"
    },
    "language_info": {
      "codemirror_mode": {
        "name": "ipython",
        "version": 3
      },
      "file_extension": ".py",
      "mimetype": "text/x-python",
      "name": "python",
      "nbconvert_exporter": "python",
      "pygments_lexer": "ipython3",
      "version": "3.10.6"
    },
    "microsoft": {
      "host": {
        "AzureML": {
          "notebookHasBeenCompleted": true
        }
      }
    },
    "nteract": {
      "version": "nteract-front-end@1.0.0"
    }
  },
  "nbformat": 4,
  "nbformat_minor": 2
}
